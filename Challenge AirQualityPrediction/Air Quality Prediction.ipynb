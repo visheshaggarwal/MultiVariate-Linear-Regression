{
 "cells": [
  {
   "cell_type": "markdown",
   "metadata": {},
   "source": [
    "## Importing Data"
   ]
  },
  {
   "cell_type": "code",
   "execution_count": 1,
   "metadata": {},
   "outputs": [],
   "source": [
    "import pandas as pd\n",
    "import numpy as np\n",
    "import matplotlib.pyplot as plt"
   ]
  },
  {
   "cell_type": "code",
   "execution_count": 2,
   "metadata": {},
   "outputs": [],
   "source": [
    "dfx = pd.read_csv('Train.csv').values\n",
    "X = dfx[1:, :-1]\n",
    "Y = dfx[1:, -1]"
   ]
  },
  {
   "cell_type": "code",
   "execution_count": 3,
   "metadata": {},
   "outputs": [
    {
     "name": "stdout",
     "output_type": "stream",
     "text": [
      "(1599, 5)\n",
      "(1599,)\n"
     ]
    }
   ],
   "source": [
    "print(X.shape)\n",
    "print(Y.shape)"
   ]
  },
  {
   "cell_type": "markdown",
   "metadata": {},
   "source": [
    "## Algorithm"
   ]
  },
  {
   "cell_type": "code",
   "execution_count": 26,
   "metadata": {},
   "outputs": [
    {
     "name": "stdout",
     "output_type": "stream",
     "text": [
      "[[ 1.         -0.83608408 -0.18922804 -0.77640262 -1.05383124  0.59799685]\n",
      " [ 1.          0.23642511  0.13283602 -0.14772298  0.69985396 -0.18736416]\n",
      " [ 1.          0.17531181  0.14319424 -0.58111096 -0.12210693 -1.29216807]\n",
      " ...\n",
      " [ 1.          1.04417694 -0.89920649  1.73039905 -1.87105676  0.44251965]\n",
      " [ 1.         -1.2691729  -0.00505216  1.85766873 -1.08036482  0.73633394]\n",
      " [ 1.         -1.88400025 -0.84942743 -1.45227035  0.48861308  1.4595758 ]]\n"
     ]
    }
   ],
   "source": [
    "x = np.ones((1599,6))\n",
    "x[:,1:] = X[:,:]\n",
    "print(x)"
   ]
  },
  {
   "cell_type": "code",
   "execution_count": 62,
   "metadata": {},
   "outputs": [],
   "source": [
    "def hypothesis(x,theta):\n",
    "    a = 0                                         # calculating the hypothesis for an example\n",
    "    for i in range(x.shape[0]):\n",
    "        a += x[i]*theta[i]\n",
    "    return a\n",
    "\n",
    "def error(x,y,theta):                             # calculating total error\n",
    "    n = x.shape[0]\n",
    "    total_error = 0\n",
    "    for i in range(n):\n",
    "        hx = hypothesis(x[i],theta)\n",
    "        total_error += (hx-y[i])**2\n",
    "    return total_error*0.5\n",
    "\n",
    "def gradient(x,y,theta):                          # Calculating Gradient\n",
    "    n = x.shape[0]\n",
    "    grad = np.zeros((x.shape[1], ))\n",
    "    for i in range(n):\n",
    "        hx = hypothesis(x[i],theta)\n",
    "        for j in range(x.shape[1]):\n",
    "            grad[j] += (hx - y[i])*x[i][j]\n",
    "    return grad\n",
    "\n",
    "def GradientDescent(x,y,learning_rate=0.001):\n",
    "    theta = np.zeros(x.shape[1])\n",
    "    i = 0\n",
    "    e = []\n",
    "    while i<=200 :\n",
    "        grad = gradient(x,y,theta)\n",
    "        theta = theta - grad*learning_rate\n",
    "        e.append(error(x,y,theta))\n",
    "        i +=1\n",
    "        \n",
    "    return theta,e\n",
    "\n"
   ]
  },
  {
   "cell_type": "code",
   "execution_count": 63,
   "metadata": {},
   "outputs": [],
   "source": [
    "theta,err = GradientDescent(x,Y)"
   ]
  },
  {
   "cell_type": "code",
   "execution_count": 64,
   "metadata": {},
   "outputs": [
    {
     "name": "stdout",
     "output_type": "stream",
     "text": [
      "[ 5.00570781 29.68688965 92.64871058  8.2748588  44.77460154  2.52699597]\n"
     ]
    }
   ],
   "source": [
    "print(theta)"
   ]
  },
  {
   "cell_type": "code",
   "execution_count": 71,
   "metadata": {},
   "outputs": [
    {
     "data": {
      "image/png": "[encoded data removed]",
      "text/plain": [
       "<Figure size 432x288 with 1 Axes>"
      ]
     },
     "metadata": {},
     "output_type": "display_data"
    }
   ],
   "source": [
    "for i in range(50):                                   # plotting few target values and there predicted values\n",
    "    plt.scatter(i+1,Y[i],color='red')\n",
    "    plt.scatter(i+1,hypothesis(x[i],theta),color='blue')\n",
    "\n",
    "plt.show()"
   ]
  },
  {
   "cell_type": "code",
   "execution_count": 66,
   "metadata": {},
   "outputs": [
    {
     "data": {
      "text/plain": [
       "[<matplotlib.lines.Line2D at 0x1e9398cf208>]"
      ]
     },
     "execution_count": 66,
     "metadata": {},
     "output_type": "execute_result"
    },
    {
     "data": {
      "image/png": "[encoded data removed]",
      "text/plain": [
       "<Figure size 432x288 with 1 Axes>"
      ]
     },
     "metadata": {},
     "output_type": "display_data"
    }
   ],
   "source": [
    "plt.plot(err) #plot of error function"
   ]
  },
  {
   "cell_type": "code",
   "execution_count": null,
   "metadata": {},
   "outputs": [],
   "source": []
  },
  {
   "cell_type": "code",
   "execution_count": 174,
   "metadata": {},
   "outputs": [],
   "source": [
    "Xt = pd.read_csv('Test.csv').values          #reading testing data\n",
    "Xt = Xt[0: , : ]"
   ]
  },
  {
   "cell_type": "code",
   "execution_count": 175,
   "metadata": {},
   "outputs": [
    {
     "name": "stdout",
     "output_type": "stream",
     "text": [
      "(400, 5)\n",
      "[ 1.01525387  2.07620944 -0.26643482 -2.4180882  -0.98050279]\n"
     ]
    }
   ],
   "source": [
    "print(Xt.shape)\n",
    "print(Xt[0])"
   ]
  },
  {
   "cell_type": "code",
   "execution_count": 176,
   "metadata": {},
   "outputs": [],
   "source": [
    "ones = np.ones((Xt.shape[0],6))\n",
    "ones[: , 1:] = Xt[:,:]\n",
    "Xt = ones"
   ]
  },
  {
   "cell_type": "code",
   "execution_count": 177,
   "metadata": {},
   "outputs": [
    {
     "name": "stdout",
     "output_type": "stream",
     "text": [
      "(400, 6)\n"
     ]
    }
   ],
   "source": [
    "print(Xt.shape)\n",
    "Yt = np.ones((Xt.shape[0], ))"
   ]
  },
  {
   "cell_type": "code",
   "execution_count": 178,
   "metadata": {},
   "outputs": [],
   "source": [
    "for i in range(Xt.shape[0]):\n",
    "    Yt[i]= hypothesis(Xt[i],theta)"
   ]
  },
  {
   "cell_type": "code",
   "execution_count": 179,
   "metadata": {},
   "outputs": [
    {
     "name": "stdout",
     "output_type": "stream",
     "text": [
      "(400,)\n"
     ]
    }
   ],
   "source": [
    "print(Yt.shape)"
   ]
  },
  {
   "cell_type": "code",
   "execution_count": 180,
   "metadata": {},
   "outputs": [
    {
     "name": "stdout",
     "output_type": "stream",
     "text": [
      "[ 1.14552192e+02  1.18010991e+02 -2.17503731e+01 -4.39600824e+01\n",
      " -9.58989744e+01 -4.45057637e+01 -7.55455856e+01  2.38035105e+01\n",
      "  1.73828709e+02  1.72852724e+02 -1.05400419e+02 -2.07836326e+01\n",
      " -3.89308848e+00  1.22991427e+02  4.03381015e+01  4.57397570e+01\n",
      " -1.89593816e+02  2.26123956e+01  1.16284652e+01  1.36353448e+02\n",
      "  6.49331565e+01 -6.19544544e+01 -1.08177587e+02 -7.40523328e+00\n",
      " -5.84805514e+01  1.19043876e+01  2.92674183e+01  1.07710133e+02\n",
      "  2.41514630e+01 -2.60918023e+01  1.10997411e+02 -4.48431991e+01\n",
      "  2.16814794e+02 -1.38452723e+01 -2.28559648e+02  1.54906310e+02\n",
      " -2.21056806e+00  1.27076265e+01 -3.08250738e+02  7.71323889e+01\n",
      " -8.11773554e+01 -2.06605738e+02 -2.38723852e+02  1.34762907e+02\n",
      " -7.36721674e+01  1.05467804e+02 -3.54692459e+00  2.06418101e+01\n",
      " -9.79970788e+01 -2.74930403e+01  1.08128778e+01 -1.74393974e+02\n",
      "  6.51824057e+01 -9.77762199e+01 -1.06121389e+02 -1.55940625e+02\n",
      "  6.25602308e+01  1.08623560e+02 -7.46148759e+01  4.17445533e+01\n",
      "  4.12412533e+01 -5.07825142e+01  1.64894767e+02  4.35602704e+01\n",
      "  5.69435272e+01  2.41438206e+01  8.16758797e+01 -1.78241605e+00\n",
      " -3.08123478e+00  1.83623125e+00 -2.39391215e+01  1.61861144e+02\n",
      " -4.10052009e+01  2.15573603e+01 -6.64084663e+01 -6.92444905e+01\n",
      "  3.70076215e+01 -1.60449046e+02 -1.74988073e+00  1.51317750e+02\n",
      " -3.80144391e+01 -1.20300725e+02 -1.94432816e+02  3.64394931e+01\n",
      "  1.46430006e+02  2.71419416e+02 -2.56969272e+02 -8.84960175e+01\n",
      "  7.62607994e+01 -8.99264254e+01 -4.93921017e+01  1.25602693e+02\n",
      " -1.63858273e+02 -1.16813176e+02  4.86887257e+01  9.81937890e+01\n",
      " -2.15558134e+02 -1.21255710e+02 -1.72301211e+02 -5.12519839e+01\n",
      "  1.28008312e+02 -8.38763395e+01 -3.95580933e+00 -1.44328282e+00\n",
      "  9.56842697e-02  8.07240921e+01  4.45286562e+01  9.24485981e+01\n",
      " -3.02961927e+01 -8.41026909e+01  3.86223301e+01  1.82886223e+01\n",
      "  1.17409506e+02  7.74741260e+00  7.35698828e+01  3.27446403e+01\n",
      " -1.42415897e+02  7.20593185e+00  2.10196412e+01 -2.27813051e+01\n",
      " -2.11924790e+01 -2.55751606e+02  2.67454247e+02  1.55051263e+02\n",
      "  1.43713737e+01  8.34951364e+01 -1.21207365e+01 -1.53072212e+02\n",
      "  1.12383222e+02 -3.20394784e+01 -2.16009129e+02  1.21073158e+02\n",
      " -2.98683901e+01 -8.68486639e+01  1.70740329e+02  3.92074491e+01\n",
      " -1.93390584e+01  6.17812058e+01  4.61129838e+01 -1.74996127e+02\n",
      "  1.30184758e+02 -7.27610346e+01  2.12056502e+02  1.35327120e+02\n",
      "  2.77660897e-01 -1.53826732e+02 -1.48340451e+01  1.33664535e+02\n",
      "  3.59615597e+01  5.77252543e+01 -4.36829656e+00 -4.30776497e+01\n",
      "  1.77028715e+01 -6.96783224e+01  2.85717559e+01  1.42008521e+02\n",
      "  3.46831901e+02  2.16954503e+02  2.78238088e+01 -3.77046893e+01\n",
      " -1.71362953e+02  1.29117099e+01  2.98598347e+02  7.56432617e+01\n",
      " -2.20976771e+01  1.55684416e+02 -1.55655905e+02  1.41413706e+02\n",
      "  1.71093145e+02 -4.69491323e+01  6.56151587e+01  9.72353625e+01\n",
      "  9.49378390e+01  3.18916433e+01  1.74350626e+02 -1.51145413e+02\n",
      " -9.43441886e+01 -1.69767041e+02 -1.82740252e+01 -1.07266332e+02\n",
      " -1.40856935e+01 -5.87979735e+01 -7.50595002e+01  6.73665613e+01\n",
      " -6.89534562e+01  8.88324232e+01 -5.70629009e+01 -1.09735505e+02\n",
      " -7.77800963e+01  1.85605612e+02 -4.14322878e+01  2.19661103e+02\n",
      " -5.66157819e+01 -8.36059895e+01  4.73361492e+01  6.55774181e-01\n",
      "  7.13950104e+01 -6.06451759e+01  2.09652609e+02 -1.38619830e+02\n",
      " -9.68469620e+01 -1.15558416e+02  2.49640982e+01  5.42754497e+01\n",
      "  1.50495414e+02  4.68978292e+01  9.19933553e+01  1.73065823e+02\n",
      " -2.70529102e+02 -1.73831927e+02 -1.05311828e+02 -8.24869887e+01\n",
      "  2.90880833e+01 -5.03175415e+01  7.81177675e+01 -2.01993965e+01\n",
      " -5.21994307e+01 -2.85914960e+01  6.56618670e+01  9.17295702e+01\n",
      " -8.26324602e+01 -1.48470087e+02  4.86673939e+01  2.38561873e+02\n",
      " -4.87141186e+01  1.57951313e+01 -6.19771367e+01  1.31821375e+01\n",
      "  1.00121140e+01  3.99752637e+01  1.15956807e+02  1.86802831e+01\n",
      " -1.07307565e+02  4.68031321e+01  1.00053258e+02 -8.87147116e+01\n",
      " -1.74676876e+02  1.69500093e+02  1.09366200e+02  6.20890504e+01\n",
      " -8.52068736e+00 -2.48374981e+01 -4.77374136e+01 -1.71002989e+02\n",
      " -6.49867535e+01 -2.77252258e+01 -1.71386836e+02 -2.82063369e+01\n",
      "  3.43239928e+01 -1.21593702e+02  1.74534626e+01 -7.49220000e-01\n",
      " -2.54154213e+02 -2.53477756e+02 -1.65842466e+02  4.67220611e+01\n",
      "  1.31652392e+02  7.07753194e+01  1.19867092e+02  9.38492392e+01\n",
      "  2.21627999e+01 -3.06093718e+02  1.87125491e+02 -1.30065646e+02\n",
      " -4.38739234e+01 -8.48000295e+01 -8.74896067e+01  1.37061892e+02\n",
      "  1.62675957e+02 -4.04042613e+01 -1.42303812e+02  1.13313871e+02\n",
      " -1.98179185e+01  8.81608760e+01  1.05985854e+02  2.53060255e+01\n",
      " -5.08620256e+01 -2.69378105e+01  3.01168935e+01  7.38739974e+01\n",
      "  2.83707826e+01 -1.28370024e+02 -1.52595219e+01 -1.09863742e+01\n",
      " -1.26769722e+02  1.62138732e+02 -1.00544908e+01 -1.33312751e+02\n",
      "  2.06449755e+02  4.88458994e+01  9.31991743e+01  3.14194258e+01\n",
      "  2.07053923e+02 -3.89644465e+01 -3.07169616e+01 -4.01327007e+01\n",
      "  5.23833402e+01 -6.23480697e+01  9.36326973e+01 -8.42655713e+01\n",
      " -9.55479229e+01 -2.43387420e+01 -8.98065289e+01 -2.31512625e+01\n",
      "  5.96579312e+01 -3.23937379e+01 -7.40469906e+01 -1.79714199e+02\n",
      " -1.63641950e+02  4.12193386e+01  8.02982994e+01  3.01566261e+02\n",
      "  1.28570779e+02  1.30858700e+02  5.25378151e+01 -2.12605645e+01\n",
      "  1.83272746e+02 -5.88592828e+01  1.29513180e+02  1.52665987e+02\n",
      " -3.32981536e+01 -2.02122288e+02 -9.88477681e+01  4.33237759e+00\n",
      " -4.48016696e+01 -3.78227179e+01  1.57807173e+02  1.34013633e+02\n",
      "  2.50250490e+01 -8.84070543e+01  1.87247010e+02 -6.54432646e+01\n",
      "  6.55691956e+01  8.04008231e+01  9.87812744e+01 -1.05236749e+02\n",
      "  1.14425458e+02 -3.48987718e+01  8.86224520e+01 -8.33733511e+01\n",
      " -2.02231960e+02  1.58217057e+02 -9.31343957e+01  6.60319986e+01\n",
      "  1.25510288e+02  3.06867997e+01 -1.75207392e+02 -3.36863213e+01\n",
      " -4.79686325e+01 -1.17012399e+02  1.22969685e+01 -8.80901320e+01\n",
      " -3.89639175e+01 -1.63389236e+02 -2.18430062e+02  5.53699069e+00\n",
      " -2.05903561e+02  1.85715579e+02 -9.24172808e+00  1.80924861e+01\n",
      "  3.27700148e+01  2.41115559e+02 -2.73455034e+01  1.34055098e+02\n",
      "  5.74036208e+01  1.05494770e+01 -8.64578202e+01 -9.60305588e+00\n",
      "  2.23395751e+02 -1.46857724e+01 -1.37885955e+02 -5.05067413e+01\n",
      " -9.36614107e+01  8.85884496e+00 -1.45878739e+01 -6.28539707e+01\n",
      " -1.64444418e+01 -1.72934243e+02 -1.22750546e+02  4.52876453e+01\n",
      " -3.72897563e+01 -1.57390375e+02  8.75120754e+01 -2.98422208e-01\n",
      "  1.33260780e+02 -4.71692760e+01  2.57980272e+00  1.74239781e+02\n",
      "  1.70960181e+02  4.64779946e+01 -2.67031359e+01  5.96324873e+01\n",
      "  1.11662511e+02 -3.64835769e+01 -6.91138966e+01 -8.19522044e+01\n",
      " -1.85984531e+02  1.25285163e+02  6.53725018e+01  5.70863815e+01]\n"
     ]
    }
   ],
   "source": [
    "print(Yt)"
   ]
  },
  {
   "cell_type": "code",
   "execution_count": 181,
   "metadata": {},
   "outputs": [],
   "source": [
    "id = np.arange(399).reshape(399,1)"
   ]
  },
  {
   "cell_type": "code",
   "execution_count": 182,
   "metadata": {},
   "outputs": [],
   "source": [
    "l = [int(i) for i in Yt]"
   ]
  },
  {
   "cell_type": "code",
   "execution_count": 183,
   "metadata": {},
   "outputs": [],
   "source": [
    "df = pd.DataFrame(l)"
   ]
  },
  {
   "cell_type": "code",
   "execution_count": 184,
   "metadata": {},
   "outputs": [
    {
     "name": "stdout",
     "output_type": "stream",
     "text": [
      "       0\n",
      "0    114\n",
      "1    118\n",
      "2    -21\n",
      "3    -43\n",
      "4    -95\n",
      "5    -44\n",
      "6    -75\n",
      "7     23\n",
      "8    173\n",
      "9    172\n",
      "10  -105\n",
      "11   -20\n",
      "12    -3\n",
      "13   122\n",
      "14    40\n",
      "15    45\n",
      "16  -189\n",
      "17    22\n",
      "18    11\n",
      "19   136\n",
      "20    64\n",
      "21   -61\n",
      "22  -108\n",
      "23    -7\n",
      "24   -58\n",
      "25    11\n",
      "26    29\n",
      "27   107\n",
      "28    24\n",
      "29   -26\n",
      "..   ...\n",
      "370 -137\n",
      "371  -50\n",
      "372  -93\n",
      "373    8\n",
      "374  -14\n",
      "375  -62\n",
      "376  -16\n",
      "377 -172\n",
      "378 -122\n",
      "379   45\n",
      "380  -37\n",
      "381 -157\n",
      "382   87\n",
      "383    0\n",
      "384  133\n",
      "385  -47\n",
      "386    2\n",
      "387  174\n",
      "388  170\n",
      "389   46\n",
      "390  -26\n",
      "391   59\n",
      "392  111\n",
      "393  -36\n",
      "394  -69\n",
      "395  -81\n",
      "396 -185\n",
      "397  125\n",
      "398   65\n",
      "399   57\n",
      "\n",
      "[400 rows x 1 columns]\n"
     ]
    }
   ],
   "source": [
    "print(df)"
   ]
  },
  {
   "cell_type": "code",
   "execution_count": 185,
   "metadata": {},
   "outputs": [],
   "source": [
    "df.to_csv('sol.csv',header='False',index='True')"
   ]
  },
  {
   "cell_type": "code",
   "execution_count": 186,
   "metadata": {},
   "outputs": [
    {
     "name": "stdout",
     "output_type": "stream",
     "text": [
      "-5\n"
     ]
    }
   ],
   "source": [
    "print(int(-5.3))"
   ]
  },
  {
   "cell_type": "code",
   "execution_count": null,
   "metadata": {},
   "outputs": [],
   "source": []
  }
 ],
 "metadata": {
  "kernelspec": {
   "display_name": "Python 3",
   "language": "python",
   "name": "python3"
  },
  "language_info": {
   "codemirror_mode": {
    "name": "ipython",
    "version": 3
   },
   "file_extension": ".py",
   "mimetype": "text/x-python",
   "name": "python",
   "nbconvert_exporter": "python",
   "pygments_lexer": "ipython3",
   "version": "3.6.5"
  }
 },
 "nbformat": 4,
 "nbformat_minor": 2
}
